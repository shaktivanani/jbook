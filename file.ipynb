{
 "cells": [
  {
   "cell_type": "markdown",
   "id": "3d14267f",
   "metadata": {},
   "source": [
    "# File Operation\n",
    "\n",
    "### File Object Attribute\n",
    "- file.open()\n",
    "- file.closed() \n",
    "- file.mode()\n",
    "- file.name()\n",
    "- file.softspace()\n",
    "### File MOde\n",
    "- r File read only\n",
    "- rb File reading only in binary\n",
    "- r+ File reading + Writing\n",
    "- rb+ File reading + writing in binary"
   ]
  },
  {
   "cell_type": "code",
   "execution_count": null,
   "id": "17fdfc3d",
   "metadata": {},
   "outputs": [
    {
     "name": "stdout",
     "output_type": "stream",
     "text": [
      "Name of File :  demo.txt\n",
      "closed or not :  False\n",
      "file opening mod :  wb\n"
     ]
    }
   ],
   "source": [
    "fo=open(\"demo.txt\",\"wb\")\n",
    "print(\"Name of File : \",fo.name )\n",
    "print(\"closed or not : \",fo.closed)\n",
    "print(\"file opening mod : \",fo.mode)\n",
    "#print(\"softspace flag : \",fo.softspace)\n",
    "fo.close()"
   ]
  },
  {
   "cell_type": "code",
   "execution_count": 1,
   "id": "385e6ddc",
   "metadata": {},
   "outputs": [],
   "source": [
    "# open file n\n",
    "fo=open(\"demo.txt\",\"w\")\n",
    "fo.write(\"hello professor\")\n",
    "fo.close()"
   ]
  },
  {
   "cell_type": "code",
   "execution_count": null,
   "id": "c5ba498c",
   "metadata": {},
   "outputs": [],
   "source": []
  }
 ],
 "metadata": {
  "kernelspec": {
   "display_name": "Python 3",
   "language": "python",
   "name": "python3"
  },
  "language_info": {
   "codemirror_mode": {
    "name": "ipython",
    "version": 3
   },
   "file_extension": ".py",
   "mimetype": "text/x-python",
   "name": "python",
   "nbconvert_exporter": "python",
   "pygments_lexer": "ipython3",
   "version": "3.13.2"
  }
 },
 "nbformat": 4,
 "nbformat_minor": 5
}
