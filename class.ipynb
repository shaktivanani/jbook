{
 "cells": [
  {
   "cell_type": "markdown",
   "id": "2890948e",
   "metadata": {},
   "source": [
    "# Class "
   ]
  },
  {
   "cell_type": "code",
   "execution_count": 2,
   "id": "88a65f4c",
   "metadata": {},
   "outputs": [
    {
     "name": "stdout",
     "output_type": "stream",
     "text": [
      "total employ 1 \n",
      "name :  shakti Salary :  45000\n",
      "total employ 2 \n",
      "name :  sem Salary :  40000\n"
     ]
    }
   ],
   "source": [
    "class Emp:\n",
    "    Empcount=0\n",
    "    def __init__(self,name,salary):\n",
    "        self.name=name\n",
    "        self.salary=salary\n",
    "        Emp.Empcount += 1\n",
    "\n",
    "    def desplaycount(self):\n",
    "        print(\"total employ %d \"%Emp.Empcount)\n",
    "    \n",
    "    def displayemp(self):\n",
    "        print(\"name : \",self.name,\"Salary : \",self.salary)\n",
    "\n",
    "e=Emp(\"shakti\",45000)\n",
    "e.desplaycount()\n",
    "e.displayemp()\n",
    "f=Emp(\"sem\",40000)\n",
    "f.desplaycount()\n",
    "f.displayemp()"
   ]
  },
  {
   "cell_type": "code",
   "execution_count": null,
   "id": "1dac1bcb",
   "metadata": {},
   "outputs": [],
   "source": []
  }
 ],
 "metadata": {
  "kernelspec": {
   "display_name": "Python 3",
   "language": "python",
   "name": "python3"
  },
  "language_info": {
   "codemirror_mode": {
    "name": "ipython",
    "version": 3
   },
   "file_extension": ".py",
   "mimetype": "text/x-python",
   "name": "python",
   "nbconvert_exporter": "python",
   "pygments_lexer": "ipython3",
   "version": "3.13.2"
  }
 },
 "nbformat": 4,
 "nbformat_minor": 5
}
